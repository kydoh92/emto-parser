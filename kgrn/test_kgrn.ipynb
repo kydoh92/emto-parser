{
 "cells": [
  {
   "cell_type": "code",
   "execution_count": 1,
   "metadata": {},
   "outputs": [],
   "source": [
    "import sys\n",
    "import utils as ut\n",
    "import json\n",
    "import re"
   ]
  },
  {
   "cell_type": "markdown",
   "metadata": {},
   "source": [
    "# Input"
   ]
  },
  {
   "cell_type": "code",
   "execution_count": 2,
   "metadata": {},
   "outputs": [],
   "source": [
    "filename = \"s878_fcc_pm.dat\"\n",
    "with open(filename) as f:\n",
    "    lines = f.readlines()"
   ]
  },
  {
   "cell_type": "code",
   "execution_count": 53,
   "metadata": {},
   "outputs": [],
   "source": [
    "# cleaning & get list type [line, line, ...]\n",
    "clist = ut.Cleaning(lines)\n",
    "i = 1\n",
    "# 1~25\n",
    "while clist:\n",
    "    if i in [1, 13, 14, 25]:\n",
    "        clist.pop(0)\n",
    "    # STRT, MSGL, EXPAN, FCD, FUNC\n",
    "    elif 'STRT..' in clist[0]:\n",
    "        STRT, MSGL, EXPAN, FCD, FUNC = ut.tokenizer(clist.pop(0))\n",
    "    # FOR, DIR\n",
    "    elif 'FOR001' in clist[0]:\n",
    "        FOR001 = ut.tokenizer(clist.pop(0))\n",
    "        FOR001M = ut.tokenizer(clist.pop(0)); i += 1\n",
    "        DIR002 = ut.tokenizer(clist.pop(0)); i += 1\n",
    "        DIR003 = ut.tokenizer(clist.pop(0)); i += 1\n",
    "        FOR004 = ut.tokenizer(clist.pop(0)); i += 1\n",
    "        DIR006 = ut.tokenizer(clist.pop(0)); i += 1\n",
    "        DIR009 = ut.tokenizer(clist.pop(0)); i += 1\n",
    "        DIR010 = ut.tokenizer(clist.pop(0)); i += 1\n",
    "        DIR011 = ut.tokenizer(clist.pop(0)); i += 1\n",
    "    # NITER, NLIN, NPRN, NCPA, NT, MNTA\n",
    "    elif 'NITER.=' in clist[0]:\n",
    "        NITER, NLIN, NPRN, NCPA, NT, MNTA = ut.tokenizer(clist.pop(0))\n",
    "    # MODE, FRC, DOS, OPS, AFM, CRT\n",
    "    elif 'MODE..=' in clist[0]:\n",
    "        MODE, FRC, DOS, OPS, AFM, CRT = ut.tokenizer(clist.pop(0))\n",
    "    # Lmaxh, Lmaxt, NFI, FIXG, SHF, SOFC\n",
    "    elif 'Lmaxh.=' in clist[0]:\n",
    "        Lmaxh, Lmaxt, NFI, FIXG, SHF, SOFC = ut.tokenizer(clist.pop(0))\n",
    "    # KMSH, IBZ, NKX, NKY, NKZ, FBZ\n",
    "    elif 'KMSH...=' in clist[0]:\n",
    "        KMSH, IBZ, NKX, NKY, NKZ, FBZ = ut.tokenizer(clist.pop(0))\n",
    "    # KMSH2, IBZ2, NKX2, NKY2, NKZ2\n",
    "    elif 'KMSH2..=' in clist[0]:\n",
    "        KMSH2, IBZ2, NKX2, NKY2, NKZ2 = ut.tokenizer(clist.pop(0))\n",
    "    # ZMSH, NZ1, NZ2, NZ3, NRES, NZD\n",
    "    elif 'ZMSH...=' in clist[0]:\n",
    "        ZMSH, NZ1, NZ2, NZ3, NRES, NZD = ut.tokenizer(clist.pop(0))\n",
    "    # DEPTH, IMAGZ, EPS, ELIM\n",
    "    elif 'DEPTH..=' in clist[0]:\n",
    "        DEPTH, IMAGZ, EPS, ELIM = ut.tokenizer(clist.pop(0))\n",
    "    # AMIX, EFMIX, VMTZ, MMOM\n",
    "    elif 'AMIX...=' in clist[0]:\n",
    "        AMIX, EFMIX, VMTZ, MMOM = ut.tokenizer(clist.pop(0))\n",
    "    # TOLE, TOLEF, TOLCPA, TFERMI\n",
    "    elif 'TOLE...=' in clist[0]:\n",
    "        TOLE, TOLEF, TOLCPA, TFERMI = ut.tokenizer(clist.pop(0))\n",
    "    # SWS, NSWS, DSWS, ALPCPA\n",
    "    elif 'SWS....=' in clist[0]:\n",
    "        SWS, NSWS, DSWS, ALPCPA = ut.tokenizer(clist.pop(0))\n",
    "    # EFGS, HX, NZ, NZ0, STMP\n",
    "    elif 'EFGS...=' in clist[0]:\n",
    "        EFGS, HX, NZ, NZ0, STMP = ut.tokenizer(clist.pop(0))\n",
    "    # atom과 conc, magnetic 정보 담기\n",
    "    elif 'Symb   IQ' in clist[0]:\n",
    "        atom_conc_list = list()\n",
    "        clist.pop(0)\n",
    "        for j in range(int(NT) * int(MNTA)):\n",
    "            pop_line = clist.pop(0)\n",
    "            symb = pop_line.split()[0]\n",
    "            fix = pop_line.split()[-1]\n",
    "            iq, it, ita, nz, conc, sm, s, ws, qtr, splt = ut.getfloat(pop_line)\n",
    "            atom_conc_list.append({'Symb':symb, 'IQ':iq, 'IT':it, 'ITA':ita, 'NZ':nz, 'CONC':conc, 'Sm':sm, 'S':s, 'WS':ws, 'QTR':qtr, 'SPLT':splt, 'Fix':fix})\n",
    "            i += 1\n",
    "    # IEX, NP, NES, NITER, IWAT, NPRNA\n",
    "    elif 'IEX...=' in clist[0]:\n",
    "        IEX, NP, NES, NITER_DIRCA, IWAT, NPRNA = ut.tokenizer(clist.pop(0))\n",
    "    # VMIX, RWAT, RMAX\n",
    "    elif 'VMIX...' in clist[0]:\n",
    "        VMIX, RWAT, RMAX = ut.tokenizer(clist.pop(0))\n",
    "    # DX, DR1, TEST\n",
    "    elif 'DX...' in clist[0]:\n",
    "        DX, DR1, TEST = ut.tokenizer(clist.pop(0))\n",
    "    # TESTE, TESTY, TESTV\n",
    "    elif 'TESTE..' in clist[0]:\n",
    "        TESTE, TESTY, TESTV = ut.tokenizer(clist.pop(0))\n",
    "        # atom_info_dict\n",
    "        atom_info_list = list()\n",
    "        for atom in atom_conc_list:\n",
    "            clist.pop(0); i += 1\n",
    "            symb = atom['Symb']\n",
    "            iz, norb, ion, config = ut.tokenizer(clist.pop(0)); i += 1\n",
    "            atom_info_list.append({'Atom':symb, 'Iz':iz, 'Norb':norb, 'Ion':ion, 'Config':config})\n",
    "            clist.pop(0); clist.pop(0); clist.pop(0); clist.pop(0); i += 4    \n",
    "    else:\n",
    "        # print(\"clist exist\")\n",
    "        clist.pop(0)\n",
    "    \n",
    "    i += 1\n",
    "    \n",
    "# 26~ 2+NQ*NS\n",
    "    "
   ]
  },
  {
   "cell_type": "code",
   "execution_count": 54,
   "metadata": {},
   "outputs": [
    {
     "data": {
      "text/plain": [
       "[{'Atom': 'Al', 'Iz': '13', 'Norb': '6', 'Ion': '0', 'Config': '3s2_3p1'},\n",
       " {'Atom': 'Al', 'Iz': '13', 'Norb': '6', 'Ion': '0', 'Config': '3s2_3p1'},\n",
       " {'Atom': 'Cr', 'Iz': '24', 'Norb': '9', 'Ion': '0', 'Config': '3d4_4s2'},\n",
       " {'Atom': 'Cr', 'Iz': '24', 'Norb': '9', 'Ion': '0', 'Config': '3d4_4s2'},\n",
       " {'Atom': 'Mn', 'Iz': '25', 'Norb': '10', 'Ion': '0', 'Config': '3d5_4s2'},\n",
       " {'Atom': 'Mn', 'Iz': '25', 'Norb': '10', 'Ion': '0', 'Config': '3d5_4s2'},\n",
       " {'Atom': 'Fe', 'Iz': '26', 'Norb': '10', 'Ion': '0', 'Config': '3d7_4s1'},\n",
       " {'Atom': 'Fe', 'Iz': '26', 'Norb': '10', 'Ion': '0', 'Config': '3d7_4s1'},\n",
       " {'Atom': 'Co', 'Iz': '27', 'Norb': '10', 'Ion': '0', 'Config': '3d7_4s2'},\n",
       " {'Atom': 'Co', 'Iz': '27', 'Norb': '10', 'Ion': '0', 'Config': '3d7_4s2'},\n",
       " {'Atom': 'Ni', 'Iz': '28', 'Norb': '10', 'Ion': '0', 'Config': '3d8_4s2'},\n",
       " {'Atom': 'Ni', 'Iz': '28', 'Norb': '10', 'Ion': '0', 'Config': '3d8_4s2'}]"
      ]
     },
     "execution_count": 54,
     "metadata": {},
     "output_type": "execute_result"
    }
   ],
   "source": [
    "atom_info_list"
   ]
  },
  {
   "cell_type": "code",
   "execution_count": null,
   "metadata": {},
   "outputs": [],
   "source": []
  }
 ],
 "metadata": {
  "kernelspec": {
   "display_name": "pyemto",
   "language": "python",
   "name": "python3"
  },
  "language_info": {
   "codemirror_mode": {
    "name": "ipython",
    "version": 3
   },
   "file_extension": ".py",
   "mimetype": "text/x-python",
   "name": "python",
   "nbconvert_exporter": "python",
   "pygments_lexer": "ipython3",
   "version": "3.7.9"
  }
 },
 "nbformat": 4,
 "nbformat_minor": 2
}
