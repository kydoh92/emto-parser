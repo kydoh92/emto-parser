{
 "cells": [
  {
   "cell_type": "code",
   "execution_count": 1,
   "metadata": {},
   "outputs": [],
   "source": [
    "#!/usr/local/anaconda3/bin/python\n",
    "import sys\n",
    "import numpy as np\n",
    "import utils as ut\n",
    "from utils import tokenizer, check_category\n",
    "import json\n",
    "import re\n",
    "from kfcd import kfcd_comp, FHNDLR, STRINP"
   ]
  },
  {
   "cell_type": "code",
   "execution_count": 2,
   "metadata": {},
   "outputs": [],
   "source": [
    "#### MAIN ####\n",
    "\n",
    "filename = './input_file/CrMn_fcc_afm_SWS_2.600.prn'#sys.argv[1]\n",
    "with open(filename,'r') as f:\n",
    "    lines = f.readlines()\n",
    "\n",
    "# cleaning & get list type\n",
    "clines, elines = ut.Cleaning(lines, opt='kfcd')\n",
    "\n",
    "n_comp = kfcd_comp(elines)\n",
    "\n",
    "values = list()\n",
    "values.append(FHNDLR(clines))\n",
    "values.append(STRINP(clines, n_comp))\n"
   ]
  }
 ],
 "metadata": {
  "kernelspec": {
   "display_name": "kellet",
   "language": "python",
   "name": "python3"
  },
  "language_info": {
   "codemirror_mode": {
    "name": "ipython",
    "version": 3
   },
   "file_extension": ".py",
   "mimetype": "text/x-python",
   "name": "python",
   "nbconvert_exporter": "python",
   "pygments_lexer": "ipython3",
   "version": "3.7.7"
  },
  "orig_nbformat": 4
 },
 "nbformat": 4,
 "nbformat_minor": 2
}
