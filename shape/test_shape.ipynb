{
 "cells": [
  {
   "attachments": {},
   "cell_type": "markdown",
   "metadata": {},
   "source": [
    "# Packages"
   ]
  },
  {
   "cell_type": "code",
   "execution_count": 1,
   "metadata": {},
   "outputs": [],
   "source": [
    "import sys\n",
    "import utils as ut\n",
    "from utils import flush\n",
    "import json\n",
    "import re"
   ]
  },
  {
   "attachments": {},
   "cell_type": "markdown",
   "metadata": {},
   "source": [
    "# Input"
   ]
  },
  {
   "cell_type": "code",
   "execution_count": 2,
   "metadata": {},
   "outputs": [],
   "source": [
    "def L2(f):\n",
    "    string = f.readline()\n",
    "    JOBNAM = string[10:20].strip()\n",
    "    MSGL =  int(string[27:30])\n",
    "    return JOBNAM, MSGL\n",
    "def L3(f):\n",
    "    string = f.readline()\n",
    "    FOR001 = string[7:].strip()\n",
    "    return FOR001\n",
    "def L6(f):\n",
    "    string = f.readline()\n",
    "    Lmax = int(string[7:11])\n",
    "    NSR = int(string[17:21])\n",
    "    NFI = int(string[27:30])\n",
    "    return Lmax, NSR, NFI\n",
    "def L7(f):\n",
    "    string = f.readline()\n",
    "    NPRN = int(string[7:11])\n",
    "    IVEF = int(string[17:21])\n",
    "    return NPRN, IVEF\n",
    "    "
   ]
  },
  {
   "cell_type": "code",
   "execution_count": 3,
   "metadata": {},
   "outputs": [],
   "source": [
    "filename=\"lat_bcc.dat\"\n",
    "with open(filename) as f:\n",
    "    flush(f)\n",
    "    JOBNAM, MSGL = L2(f)\n",
    "    # print(JOBNAM, MSGL)\n",
    "    FOR001 = L3(f)\n",
    "    # print(FOR001)\n",
    "    flush(f,2)\n",
    "    Lmax, NSR, NFI = L6(f)\n",
    "    NPRN, IVEF = L7(f)\n",
    "    # print(Lmax, NSR, NFI, NPRN, IVEF)\n",
    "    \n",
    "# Combine entities\n",
    "Input = {\n",
    "    'Meta':{\n",
    "        'JOBNAM': [JOBNAM, None],\n",
    "        'MSGL': [MSGL, None],\n",
    "        'FOR001': [FOR001, None],\n",
    "        'NPRN': [NPRN, None],\n",
    "    },\n",
    "    'Approximation':{\n",
    "        'Lmax': [Lmax, None],\n",
    "        'NSR': [NSR, None],\n",
    "        'NFI': [NFI, None],\n",
    "        'IVEF': [IVEF, None]\n",
    "    }\n",
    "}\n",
    "    "
   ]
  },
  {
   "cell_type": "code",
   "execution_count": 4,
   "metadata": {},
   "outputs": [
    {
     "data": {
      "text/plain": [
       "{'Meta': {'JOBNAM': ['lat_bcc', None],\n",
       "  'MSGL': [1, None],\n",
       "  'FOR001': ['../../kstr/lat_bcc/smx/lat_bcc.tfh', None],\n",
       "  'NPRN': [0, None]},\n",
       " 'Approximation': {'Lmax': [30, None],\n",
       "  'NSR': [129, None],\n",
       "  'NFI': [11, None],\n",
       "  'IVEF': [3, None]}}"
      ]
     },
     "execution_count": 4,
     "metadata": {},
     "output_type": "execute_result"
    }
   ],
   "source": [
    "Input"
   ]
  },
  {
   "attachments": {},
   "cell_type": "markdown",
   "metadata": {},
   "source": [
    "### Test new method"
   ]
  },
  {
   "cell_type": "code",
   "execution_count": 5,
   "metadata": {},
   "outputs": [],
   "source": [
    "\n",
    "data = {}\n",
    "with open(\"lat_bcc.dat\") as f:\n",
    "    lines = f.readlines()\n",
    "\n",
    "    for line in lines:\n",
    "        match = re.search(r\"(\\w+)\\.=([\\w\\/\\.]+)\", line)\n",
    "        if match:\n",
    "            key, value = match.groups()\n",
    "            try:\n",
    "                # Try to convert numerical values to integers\n",
    "                value = int(value)\n",
    "            except ValueError:\n",
    "                try:\n",
    "                    # Try to convert numerical values to floats\n",
    "                    value = float(value)\n",
    "                except ValueError:\n",
    "                    pass  # If not a number, keep the value as string\n",
    "            data[key] = value\n",
    "\n",
    "with open('database.json', 'w') as f:\n",
    "    json.dump(data, f, ensure_ascii=False, indent=4)\n"
   ]
  },
  {
   "attachments": {},
   "cell_type": "markdown",
   "metadata": {},
   "source": [
    "# Output"
   ]
  },
  {
   "cell_type": "code",
   "execution_count": 6,
   "metadata": {},
   "outputs": [
    {
     "ename": "IndentationError",
     "evalue": "expected an indented block (<ipython-input-6-47b8238f0064>, line 37)",
     "output_type": "error",
     "traceback": [
      "\u001b[0;36m  File \u001b[0;32m\"<ipython-input-6-47b8238f0064>\"\u001b[0;36m, line \u001b[0;32m37\u001b[0m\n\u001b[0;31m    def SITES_INFO(f):\u001b[0m\n\u001b[0m      ^\u001b[0m\n\u001b[0;31mIndentationError\u001b[0m\u001b[0;31m:\u001b[0m expected an indented block\n"
     ]
    }
   ],
   "source": [
    "def FHNDLR1(f):\n",
    "    # read time\n",
    "    timestamp = ut.head_timestamp(f)\n",
    "    return timestamp\n",
    "def FHNDLR2(f):\n",
    "    # read FOR001\n",
    "    FOR001 = ut.css(f)\n",
    "    # flush 2 lines (FOR002, FOOR006)\n",
    "    flush(f,2)\n",
    "    return FOR001\n",
    "def FHNDLR3(f):\n",
    "    # read system information\n",
    "    EMTO = ut.css(f)\n",
    "    branch = ut.css(f)\n",
    "    hash_key = ut.css(f)\n",
    "    compile_on = ut.css(f)\n",
    "    OS = ut.css(f)\n",
    "    CPU = ut.css(f)\n",
    "    compiler = ut.css(f)\n",
    "    library = ut.css(f)\n",
    "    return EMTO, branch, hash_key, compile_on, OS, CPU, compiler, library\n",
    "def INPUT(f):\n",
    "    # NSR, LMAX, NFI, IVEF\n",
    "    NSR, LMAX, NFI, IVEF = ut.e4i(f)\n",
    "    return NSR, LMAX, NFI, IVEF\n",
    "def TRNSFM(f):\n",
    "    # slope_matrices, KW2\n",
    "    string = f.readline()\n",
    "    slope_matrices = string[26:36].strip()\n",
    "    KW2 = int(string[50:60])\n",
    "    return slope_matrices, KW2\n",
    "def BLATTS(f):\n",
    "    # format {plane_num: 1, plane_info:[x,y,z,d], point_num: 6, point_info:[[x,y,z,d(상대값)],...]}\n",
    "    \n",
    "    \n",
    "    \n",
    "def SITES_INFO(f):\n",
    "    # site num\n",
    "    try:\n",
    "        site_num_line = f.readline()\n",
    "    except:\n",
    "        raise ValueError(\"No more site information\")\n",
    "        return None\n",
    "    if \"Site number\" not in site_num_line:\n",
    "        raise ValueError(\"No more site information\")\n",
    "        return None\n",
    "    token = site_num_line.split(': ')\n",
    "    site_num = int(token[1].strip())\n",
    "    \n",
    "    # BLATTS\n",
    "    Si, WFA, SC = ut.e3f(f)\n",
    "    NSC, NVN = ut.e2f(f)\n",
    "    \n",
    "    \n"
   ]
  },
  {
   "cell_type": "code",
   "execution_count": 22,
   "metadata": {},
   "outputs": [
    {
     "name": "stdout",
     "output_type": "stream",
     "text": [
      "1638473640.0 ../../kstr/lat_bcc/smx/lat_bcc.tfh not available not available not available Thu Apr  9 21:06:12 KST 2020 Linux 3.10.0-957.el7.x86_64 x86_64 GNU/Linux Intel(R) Xeon(R) CPU E5-2630 v4 @ 2.20GHz ifort (IFORT) 18.0.5 20180823 mkl\n"
     ]
    }
   ],
   "source": [
    "filename=\"lat_bcc.prn\"\n",
    "### 빈줄 제거\n",
    "with open(filename, 'r') as f:\n",
    "    lines = f.readlines()\n",
    "lines = [line for line in lines if line.strip()]\n",
    "with open('temp_'+filename, 'w') as f:\n",
    "    f.writelines(lines)\n",
    "    \n",
    "### 데이터 읽기\n",
    "with open('temp_'+filename, 'r') as f:\n",
    "    # FHNDLR\n",
    "    time_start = FHNDLR1(f)\n",
    "    FOR001 = FHNDLR2(f)\n",
    "    EMTO, branch, hash_key, compile_on, OS, CPU, compiler, library = FHNDLR3(f)\n",
    "        \n",
    "    print(time_start, FOR001, EMTO, branch, hash_key, compile_on, OS, CPU, compiler, library)\n",
    "    \n",
    "    # INPUT\n",
    "    \n",
    "    # TRNSFM\n",
    "    \n",
    "    # BLATTS\n",
    "    \n",
    "    # RSORT\n",
    "    \n",
    "    # RMESH\n",
    "    \n",
    "    # SETROT\n",
    "    \n",
    "    # UPDATE\n",
    "    \n"
   ]
  },
  {
   "cell_type": "code",
   "execution_count": null,
   "metadata": {},
   "outputs": [],
   "source": []
  }
 ],
 "metadata": {
  "kernelspec": {
   "display_name": "pyemto",
   "language": "python",
   "name": "python3"
  },
  "language_info": {
   "codemirror_mode": {
    "name": "ipython",
    "version": 3
   },
   "file_extension": ".py",
   "mimetype": "text/x-python",
   "name": "python",
   "nbconvert_exporter": "python",
   "pygments_lexer": "ipython3",
   "version": "3.7.9"
  },
  "orig_nbformat": 4
 },
 "nbformat": 4,
 "nbformat_minor": 2
}
